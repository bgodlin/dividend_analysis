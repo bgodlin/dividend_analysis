{
 "cells": [
  {
   "cell_type": "code",
   "execution_count": 34,
   "metadata": {},
   "outputs": [],
   "source": [
    "import pandas as pd\n",
    "import os\n",
    "import numpy as np\n",
    "import matplotlib.pyplot as plt\n",
    "import glob\n",
    "from copy import deepcopy as dp"
   ]
  },
  {
   "cell_type": "code",
   "execution_count": 2,
   "metadata": {},
   "outputs": [],
   "source": [
    "from backtest import *"
   ]
  },
  {
   "cell_type": "code",
   "execution_count": 3,
   "metadata": {},
   "outputs": [],
   "source": [
    "def run_backtest(path_to_data, tickers, strategy, start_date, end_date, commission, \n",
    "                strategy_params,\n",
    "                 viz=True, logging=True):\n",
    "    '''\n",
    "    Тестирует стратегию на считанных данных\n",
    "    '''\n",
    "    data = warmup(tickers, path_to_data, start_date, end_date, selected_cols)\n",
    "\n",
    "    strategy.portfolio_init(**strategy_params)\n",
    "\n",
    "    current_tickers = {}\n",
    "    pnl = []\n",
    "    for index, (time, state) in enumerate(data.items()):\n",
    "        \n",
    "        des = strategy.get_decision(index, time, state)  # основываясь на текущем портфеле и новой информации, стратегия принимает решение\n",
    "\n",
    "    return"
   ]
  },
  {
   "cell_type": "code",
   "execution_count": 4,
   "metadata": {},
   "outputs": [],
   "source": [
    "path_to_data = 'data'\n",
    "tickers = ['AMD', 'INTC']\n",
    "start_date = '2015-01-01'\n",
    "end_date = '2020-01-01'\n",
    "\n",
    "selected_cols = ['EPS (Basic)']"
   ]
  },
  {
   "cell_type": "code",
   "execution_count": 5,
   "metadata": {},
   "outputs": [
    {
     "name": "stdout",
     "output_type": "stream",
     "text": [
      "AMD (1258, 2)\n",
      "INTC (1258, 2)\n"
     ]
    }
   ],
   "source": [
    "data_dict = warmup(tickers, path_to_data, start_date, end_date, selected_cols)"
   ]
  },
  {
   "cell_type": "code",
   "execution_count": 56,
   "metadata": {},
   "outputs": [],
   "source": [
    "class Strategy():\n",
    "    '''\n",
    "    Простая стратегия, которая равномерно покупает компании из всего получаемого списка \n",
    "    '''\n",
    "\n",
    "    def portfolio_init(self, start_money, regular_money, money_freq, decision_freq):\n",
    "        \n",
    "        if money_freq < 1:\n",
    "            print('money_freq should be >= 1!')\n",
    "            raise\n",
    "        if decision_freq < 1:\n",
    "            print('decision_freq should be >= 1!')\n",
    "            raise\n",
    "        \n",
    "        self.regular_money = regular_money\n",
    "        self.regular_money_freq = money_freq  # количество дней для регулярных поступлений \n",
    "        self.portfolio = {'cash': start_money}  # текущее состояние портфеля\n",
    "        self.days_left = self.regular_money_freq\n",
    "        self.decision_freq = decision_freq\n",
    "        self.days_to_decision = self.decision_freq\n",
    "\n",
    "\n",
    "    def init_ticker(self, ticker):\n",
    "        self.portfolio[ticker] = {'price': 0, 'volume': 0}\n",
    "    \n",
    "    def portfolio_update(self, ticker, new_price, new_amount, add):\n",
    "        add = True if add == 'to_buy' else False\n",
    "        if ticker not in self.portfolio:\n",
    "            self.init_ticker(ticker)\n",
    "        if ticker == 'cash':\n",
    "            self.portfolio[ticker] += new_amount\n",
    "        if add:  # добавляем объем в портфель, перевзвешиваем цену\n",
    "            cash_spend = new_price * new_amount\n",
    "            self.portfolio[ticker]['price'] = ((self.portfolio[ticker]['price'] * self.portfolio[ticker]['volume'] + cash_spend) / \\\n",
    "                                               (self.portfolio[ticker]['volume'] + new_amount))\n",
    "            self.portfolio[ticker]['volume'] += new_amount\n",
    "            self.portfolio['cash'] -= cash_spend\n",
    "            if self.portfolio['cash'] < 0:\n",
    "                print('Negative cash!')\n",
    "                print(self.portfolio['cash'])\n",
    "                print(ticker, cash_spend)\n",
    "                raise\n",
    "        else:  # продаем, ср. цена та же\n",
    "            cash_earned = new_price * new_amount\n",
    "            self.portfolio[ticker]['volume'] -= new_amount\n",
    "            self.portfolio['cash'] += cash_earned\n",
    "\n",
    "\n",
    "    def init_decision(self):\n",
    "        des = {'to_buy': {},\n",
    "               'to_sell': {}}\n",
    "        return des \n",
    "\n",
    "\n",
    "    def get_decision(self, index, time, state):\n",
    "        '''\n",
    "        Сама стратегия. Её можно изменять как угодно\n",
    "        ''' \n",
    "        # FIXME: мб проблема множественного вызова внутри дня\n",
    "\n",
    "        current_decision = self.init_decision()\n",
    "        self.days_left -= 1  \n",
    "        self.days_to_decision -= 1\n",
    "        \n",
    "        if self.days_left == 0:\n",
    "            self.portfolio['cash'] += self.regular_money\n",
    "            self.days_left = self.regular_money_freq\n",
    "\n",
    "        # покупаем компании, если возможно\n",
    "        # докупаю в день денег\n",
    "        if self.days_to_decision == 0:\n",
    "            current_money = self.portfolio['cash']\n",
    "            company_share = current_money / len(state)\n",
    "            for company, company_state in state.items():  # пробегаем по всем компаниям и записываем решение\n",
    "                current_decision['to_buy'][company] = company_share  # сколько денег на одну компанию\n",
    "            self.days_to_decision = self.decision_freq\n",
    "            \n",
    "        return current_decision\n",
    " "
   ]
  },
  {
   "cell_type": "code",
   "execution_count": 57,
   "metadata": {},
   "outputs": [
    {
     "name": "stdout",
     "output_type": "stream",
     "text": [
      "2015-01-02\n"
     ]
    }
   ],
   "source": [
    "for index, (time, state) in enumerate(data_dict.items()):\n",
    "    print(time)\n",
    "    break"
   ]
  },
  {
   "cell_type": "code",
   "execution_count": 58,
   "metadata": {},
   "outputs": [
    {
     "data": {
      "text/plain": [
       "{'AMD': {'adj_close': 2.6700000762939453, 'eps_basic': nan},\n",
       " 'INTC': {'adj_close': 30.671871185302734, 'eps_basic': nan}}"
      ]
     },
     "execution_count": 58,
     "metadata": {},
     "output_type": "execute_result"
    }
   ],
   "source": [
    "state"
   ]
  },
  {
   "cell_type": "code",
   "execution_count": 90,
   "metadata": {},
   "outputs": [],
   "source": [
    "strategy_params = {}\n",
    "strategy_params['start_money'] = 10000\n",
    "strategy_params['regular_money'] = 1000\n",
    "strategy_params['money_freq'] = 1\n",
    "strategy_params['decision_freq'] = 1"
   ]
  },
  {
   "cell_type": "code",
   "execution_count": 91,
   "metadata": {},
   "outputs": [],
   "source": [
    "strategy = Strategy()"
   ]
  },
  {
   "cell_type": "code",
   "execution_count": 92,
   "metadata": {},
   "outputs": [],
   "source": [
    "strategy.portfolio_init(**strategy_params)"
   ]
  },
  {
   "cell_type": "code",
   "execution_count": 93,
   "metadata": {},
   "outputs": [],
   "source": [
    "old_portfolio = dp(strategy.portfolio)"
   ]
  },
  {
   "cell_type": "code",
   "execution_count": 94,
   "metadata": {},
   "outputs": [],
   "source": [
    "des = strategy.get_decision(index, time, state)"
   ]
  },
  {
   "cell_type": "code",
   "execution_count": 95,
   "metadata": {},
   "outputs": [
    {
     "data": {
      "text/plain": [
       "{'to_buy': {'AMD': 5500.0, 'INTC': 5500.0}, 'to_sell': {}}"
      ]
     },
     "execution_count": 95,
     "metadata": {},
     "output_type": "execute_result"
    }
   ],
   "source": [
    "des"
   ]
  },
  {
   "cell_type": "code",
   "execution_count": 96,
   "metadata": {},
   "outputs": [
    {
     "data": {
      "text/plain": [
       "{'AMD': {'adj_close': 2.6700000762939453, 'eps_basic': nan},\n",
       " 'INTC': {'adj_close': 30.671871185302734, 'eps_basic': nan}}"
      ]
     },
     "execution_count": 96,
     "metadata": {},
     "output_type": "execute_result"
    }
   ],
   "source": [
    "state"
   ]
  },
  {
   "cell_type": "code",
   "execution_count": 97,
   "metadata": {},
   "outputs": [],
   "source": [
    "cash_left = 0\n",
    "for side, tickers in des.items():\n",
    "    for ticker, money in tickers.items():\n",
    "        price = state[ticker]['adj_close']\n",
    "        amount = money // price\n",
    "        cashback = money % price\n",
    "        strategy.portfolio_update(ticker, price, amount, side)\n",
    "        cash_left += cashback\n",
    "\n",
    "strategy.portfolio_update(ticker, 1, cash_left, 'cash')"
   ]
  },
  {
   "cell_type": "code",
   "execution_count": 98,
   "metadata": {},
   "outputs": [
    {
     "data": {
      "text/plain": [
       "{'cash': 24.409801483154297,\n",
       " 'AMD': {'price': 2.6700000762939453, 'volume': 2059.0},\n",
       " 'INTC': {'price': 30.671871185302734, 'volume': 166.79509925842285}}"
      ]
     },
     "execution_count": 98,
     "metadata": {},
     "output_type": "execute_result"
    }
   ],
   "source": [
    "strategy.portfolio"
   ]
  },
  {
   "cell_type": "code",
   "execution_count": 99,
   "metadata": {},
   "outputs": [
    {
     "data": {
      "text/plain": [
       "{'cash': 10000}"
      ]
     },
     "execution_count": 99,
     "metadata": {},
     "output_type": "execute_result"
    }
   ],
   "source": [
    "old_portfolio"
   ]
  },
  {
   "cell_type": "code",
   "execution_count": null,
   "metadata": {},
   "outputs": [],
   "source": []
  },
  {
   "cell_type": "code",
   "execution_count": null,
   "metadata": {},
   "outputs": [],
   "source": []
  },
  {
   "cell_type": "code",
   "execution_count": 80,
   "metadata": {},
   "outputs": [],
   "source": []
  },
  {
   "cell_type": "code",
   "execution_count": null,
   "metadata": {},
   "outputs": [],
   "source": []
  },
  {
   "cell_type": "code",
   "execution_count": null,
   "metadata": {},
   "outputs": [],
   "source": []
  }
 ],
 "metadata": {
  "kernelspec": {
   "display_name": "Python 3",
   "language": "python",
   "name": "python3"
  },
  "language_info": {
   "codemirror_mode": {
    "name": "ipython",
    "version": 3
   },
   "file_extension": ".py",
   "mimetype": "text/x-python",
   "name": "python",
   "nbconvert_exporter": "python",
   "pygments_lexer": "ipython3",
   "version": "3.9.1"
  }
 },
 "nbformat": 4,
 "nbformat_minor": 4
}
